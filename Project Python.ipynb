{
 "cells": [
  {
   "cell_type": "code",
   "execution_count": 1,
   "metadata": {},
   "outputs": [],
   "source": [
    "\n",
    "import tweepy\n",
    "from textblob import TextBlob"
   ]
  },
  {
   "cell_type": "code",
   "execution_count": 2,
   "metadata": {},
   "outputs": [],
   "source": [
    "API_key = 'T2DWgASS6np9IAVSjKXkbzux2'\n",
    "API_secret = 'xrYhXkqas5BIW1NgWH5tTIgCy2nVkN51Ibn4GupDpgzm6Hte4L'\n",
    "access_token = '1706593369-3kzlzhB8wSzbAgNyc0XYhceI09Aco7exDaWYGHx'\n",
    "access_token_secret = 'XUoJlSCz6qWTTZXvM3dSZAh5L7S3BlC3nA7gC6Izewnxu' "
   ]
  },
  {
   "cell_type": "code",
   "execution_count": 5,
   "metadata": {},
   "outputs": [
    {
     "name": "stdout",
     "output_type": "stream",
     "text": [
      "RT @STISan_Juan: En el SENIAT cumplimos con los protocolos de bioseguridad para combatir y prevenir el Covid-19, para prestar la mayor segu…\n",
      "Sentiment(polarity=0.0, subjectivity=0.0)\n",
      "Neutral\n",
      "RT @seremisalud8: En Biobío lanzamos la Campaña #QueElDolorNoteSeaIndiferente, que mediante el relato de personas que superaron el Covid-19…\n",
      "Sentiment(polarity=0.0, subjectivity=0.0)\n",
      "Neutral\n",
      "RT @WSJ: Three Wuhan Institute of Virology researchers became sick enough in November 2019 that they sought hospital care, according to a U…\n",
      "Sentiment(polarity=-0.35714285714285715, subjectivity=0.6785714285714286)\n",
      "Negative\n",
      "RT @PHMSA1: Our coordinator @Tinashenjanji currently presenting our case study \"PHMSA's advocacy and activism in relation to Community Heal…\n",
      "Sentiment(polarity=0.0, subjectivity=0.4)\n",
      "Neutral\n",
      "@LymeBdarned @maura_resister @ResisterSis20 It is a special Japanese law, every drug has to tested at 100 Japanese… https://t.co/LJMiURun8g\n",
      "Sentiment(polarity=0.17857142857142858, subjectivity=0.2857142857142857)\n",
      "Positive\n",
      "اللهم احفظ البحرين من كل شر و سوء 🇰🇼🇧🇭 #bahrain #covid_19  #bh #البحرين\n",
      "Sentiment(polarity=0.0, subjectivity=0.0)\n",
      "Neutral\n",
      "RT @siqueira__andre: É falacioso Mayra falar de hidroxicloroquina para Chikungunya como antiviral. Na chikungunya crônica é usada como anti…\n",
      "Sentiment(polarity=0.0, subjectivity=0.0)\n",
      "Neutral\n",
      "RT @InamehVenezuela: #25May #INAMEHInforma Estimación del riesgo de propagación del COVID-19 #Video @tutiempopereira @gestionperfecta @Nico…\n",
      "Sentiment(polarity=0.0, subjectivity=0.0)\n",
      "Neutral\n",
      "Hasta mañana se colocará la segunda dosis de la vacuna contra la Covid-19 en las áreas de difícil acceso en Capira.… https://t.co/kihQfEFWGI\n",
      "Sentiment(polarity=0.0, subjectivity=0.0)\n",
      "Neutral\n",
      "@rpsenador Senador @rpsenador, esta CPI do Vírus Chinês \"Covid 19/21\" ou Circo 🎪do @renancalheiros e… https://t.co/RaI8ytrcu9\n",
      "Sentiment(polarity=0.0, subjectivity=0.0)\n",
      "Neutral\n",
      "Facebook has instituted tiers to describe the tone of certain posts related to COVID-19 vaccines, with some being c… https://t.co/YXOGOhnD5O\n",
      "Sentiment(polarity=0.10714285714285714, subjectivity=0.4857142857142857)\n",
      "Positive\n",
      "RT @imnormgoh: The foreign correspondent from Phoenix TV China asked a good question about the concerns that there are many Covid-19 patien…\n",
      "Sentiment(polarity=0.35833333333333334, subjectivity=0.4083333333333334)\n",
      "Positive\n",
      "RT @alesilva_38: Agentes comunitários, profissionais de saúde local, saúde básica de saúde, são de competência dos Municípios. A União colo…\n",
      "Sentiment(polarity=0.0, subjectivity=0.0)\n",
      "Neutral\n",
      "Polsek Kakas Cegah Covid-19 https://t.co/MJ4MHQcaNy\n",
      "Sentiment(polarity=0.0, subjectivity=0.0)\n",
      "Neutral\n",
      "New availabilities: Walgreens\n",
      "Cities: MEMPHIS, MEMPHIS, MEMPHIS, MEMPHIS\n",
      "Access here: https://t.co/27YHoMEGZJ\n",
      "May 25, 12:14 PM\n",
      "Sentiment(polarity=0.13636363636363635, subjectivity=0.45454545454545453)\n",
      "Positive\n"
     ]
    }
   ],
   "source": [
    "auth = tweepy.OAuthHandler(API_key,API_secret)\n",
    "auth.set_access_token(access_token,access_token_secret)\n",
    "api = tweepy.API(auth)\n",
    "public_tweets = api.search('covid-19')\n",
    "for tweet in public_tweets:\n",
    "    print(tweet.text)\n",
    "    analysis = TextBlob(tweet.text)\n",
    "    print(analysis.sentiment)\n",
    "    if analysis.sentiment[0]>0:\n",
    "        print('Positive')\n",
    "    elif analysis.sentiment[0]<0:\n",
    "        print('Negative')\n",
    "    else:\n",
    "        print('Neutral')\n",
    "number=(analysis.sentiment[0]>0)\n"
   ]
  },
  {
   "cell_type": "code",
   "execution_count": 7,
   "metadata": {},
   "outputs": [
    {
     "name": "stdout",
     "output_type": "stream",
     "text": [
      "#ConVerdad ¡No te lo pierdas! \n",
      "📆 Miércoles 26 de mayo 2021\n",
      "⏰ 17 horas (tiempo CDMX)\n",
      "🔊 Facebook Live @verificado_mx https://t.co/1ILpLm5Abc\n",
      "Sentiment(polarity=0.13636363636363635, subjectivity=0.5)\n",
      "Positive\n",
      "People Whose Startups Are Promoted Through Facebook, Instagram :- https://t.co/NdKosk9ZXJ\n",
      "Sentiment(polarity=0.0, subjectivity=0.0)\n",
      "Neutral\n",
      "RT @RVrifie: 🧠 Les #variants, favorisés par la #vaccination ?\n",
      "\n",
      "⚠️ Non, et c’est beaucoup plus simple que cela 🤗 #COVID #variantIndien #comi…\n",
      "Sentiment(polarity=0.0, subjectivity=0.35714285714285715)\n",
      "Neutral\n",
      "RT @Aviinashx: All social media will going to be #banned \n",
      "Le people in their DMs :-\n",
      "\n",
      "#TwitterIndia #FacebookBan #InstagramBan #Facebook #In…\n",
      "Sentiment(polarity=0.03333333333333333, subjectivity=0.06666666666666667)\n",
      "Positive\n",
      "RT @5RightsFound: Canada has announced its new measures to address online harms https://t.co/q9rCH2qfzM\n",
      "Sentiment(polarity=0.13636363636363635, subjectivity=0.45454545454545453)\n",
      "Positive\n",
      "Gostei, parece bem único, fora esse efeito prático que só imagino a Chloe Zao no set chegando:\n",
      "-\"Bora cambada, subi… https://t.co/30baQtvP9H\n",
      "Sentiment(polarity=0.0, subjectivity=0.0)\n",
      "Neutral\n",
      "RT @DineshDSouza: Facebook now makes up its own rules for acceptable speech, doesn’t disclose them to its users, and censors people who vio…\n",
      "Sentiment(polarity=0.6, subjectivity=1.0)\n",
      "Positive\n",
      "RT @ndtv: #TrendingTonight | \"Government has notified some new IT rules that internet companies have to comply with... The speculation that…\n",
      "Sentiment(polarity=0.13636363636363635, subjectivity=0.45454545454545453)\n",
      "Positive\n",
      "Sambhit Patra after banning twitter and facebook https://t.co/2ctCbztUqt\n",
      "Sentiment(polarity=0.0, subjectivity=0.0)\n",
      "Neutral\n",
      "RT @ndtv: #TrendingTonight | \"Government has notified some new IT rules that internet companies have to comply with... The speculation that…\n",
      "Sentiment(polarity=0.13636363636363635, subjectivity=0.45454545454545453)\n",
      "Positive\n",
      "RT @SalemTalkies: First Ban Modi From India After That Everything Comes Under Control 😏\n",
      "\n",
      "#TwitterBan #banned #FacebookBan #WeMetOnTwitter #…\n",
      "Sentiment(polarity=0.25, subjectivity=0.3333333333333333)\n",
      "Positive\n",
      "RT @kedianirmal26: When you tell a women that you lover her but all she want is:  \n",
      "\n",
      " #BoycottPropertyPurchase #TwitterBan #Facebook https:/…\n",
      "Sentiment(polarity=0.0, subjectivity=0.0)\n",
      "Neutral\n",
      "RT @GowharGeelani: There is a debate in India about the possibility that top social media platforms including @Twitter, Insta, Facebook etc…\n",
      "Sentiment(polarity=0.26666666666666666, subjectivity=0.2833333333333333)\n",
      "Positive\n",
      "@andersoncamposv 👏👏👏👏👏👏👏👏👏👏👏👏👏👏\n",
      "Que porrada nesses 3 imorais 👊👊👊Xuxa, Nelipe Feto e Casagrande.\n",
      "\n",
      "A moral desses 3 é… https://t.co/AcmFlGPQEd\n",
      "Sentiment(polarity=0.0, subjectivity=0.25)\n",
      "Neutral\n",
      "First Ban Modi From India After That Everything Comes Under Control 😏\n",
      "\n",
      "#TwitterBan #banned #FacebookBan… https://t.co/DYg8UItiTw\n",
      "Sentiment(polarity=0.25, subjectivity=0.3333333333333333)\n",
      "Positive\n"
     ]
    }
   ],
   "source": [
    "auth = tweepy.OAuthHandler(API_key,API_secret)\n",
    "auth.set_access_token(access_token,access_token_secret)\n",
    "api = tweepy.API(auth)\n",
    "public_tweets = api.search('FACEBOOK')\n",
    "for tweet in public_tweets:\n",
    "    print(tweet.text)\n",
    "    analysis = TextBlob(tweet.text)\n",
    "    print(analysis.sentiment)\n",
    "    if analysis.sentiment[0]>0:\n",
    "        print('Positive')\n",
    "    elif analysis.sentiment[0]<0:\n",
    "        print('Negative')\n",
    "    else:\n",
    "        print('Neutral')"
   ]
  },
  {
   "cell_type": "code",
   "execution_count": null,
   "metadata": {},
   "outputs": [],
   "source": []
  },
  {
   "cell_type": "code",
   "execution_count": null,
   "metadata": {},
   "outputs": [],
   "source": []
  },
  {
   "cell_type": "code",
   "execution_count": null,
   "metadata": {},
   "outputs": [],
   "source": []
  }
 ],
 "metadata": {
  "kernelspec": {
   "display_name": "Python 3",
   "language": "python",
   "name": "python3"
  },
  "language_info": {
   "codemirror_mode": {
    "name": "ipython",
    "version": 3
   },
   "file_extension": ".py",
   "mimetype": "text/x-python",
   "name": "python",
   "nbconvert_exporter": "python",
   "pygments_lexer": "ipython3",
   "version": "3.7.3"
  }
 },
 "nbformat": 4,
 "nbformat_minor": 2
}
